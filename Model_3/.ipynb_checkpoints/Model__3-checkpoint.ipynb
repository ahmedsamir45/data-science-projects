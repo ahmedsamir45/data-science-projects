{
 "cells": [
  {
   "cell_type": "markdown",
   "id": "dad49a17",
   "metadata": {},
   "source": [
    "# Model 3\n",
    "# About Dataset\n",
    "## Context : Predict behavior to retain customers.( Churn Or Not)\n",
    "## Content : \n",
    "Each row represents a customer, each column contains customer’s attributes , The data set includes information about:\n",
    "\n",
    "- Customers who left within the last month – the column is called Churn \n",
    "- Services that each customer has signed up for – phone, multiple lines, internet, online security, online backup, device protection, tech support, and streaming TV and movies\n",
    "- Customer account information – how long they’ve been a customer, contract, payment method, paperless billing, monthly charges, and total charges\n",
    "- Demographic info about customers – gender, age range, and if they have partners and dependents\n",
    "\n",
    "## Metadata:\n",
    "   - customerID:Customer ID\n",
    "   - gender:Whether the customer is a male or a female\n",
    "   - SeniorCitizen: Whether the customer is a senior citizen or not (1, 0)\n",
    "   - Partner: Whether the customer has a partner or not (Yes, No)\n",
    "   - Dependents: Whether the customer has dependents or not (Yes, No)\n",
    "   - tenure:Number of months the customer has stayed with the company\n",
    "   - PhoneService:Whether the customer has a phone service or not (Yes, No)\n",
    "   - MultipleLines:Whether the customer has multiple lines or not (Yes, No, No phone service)\n",
    "   - InternetService:Customer’s internet service provider (DSL, Fiber optic, No)\n",
    "   - OnlineSecurity:Whether the customer has online security or not (Yes, No, No internet service)\n",
    "   - OnlineBackup: Whether the customer has online backup or not (Yes, No, No internet service)\n",
    "   - DeviceProtection: Whether the customer has device protection or not (Yes, No, No internet service)\n",
    "   - TechSupport: Whether the customer has tech support or not (Yes, No, No internet service)\n",
    "   - StreamingTV: Whether the customer has streaming TV or not (Yes, No, No internet service)\n",
    "   - StreamingMovies: Whether the customer has streaming movies or not (Yes, No, No internet service)\n",
    "   - Contract: The contract term of the customer (Month-to-month, One year, Two year)\n",
    "   - PaperlessBilling: Whether the customer has paperless billing or not (Yes, No)\n",
    "   - PaymentMethod: The customer’s payment method (Electronic check, Mailed check, Bank transfer (automatic), Credit card (automatic))\n",
    "   - MonthlyCharges: The amount charged to the customer monthly\n",
    "   - TotalCharges : The total amount charged to the customer\n",
    "   \n",
    "   - Churn: Whether the customer churned or not (Yes or No)**Label**\n",
    "   \n",
    "## Requirements\n",
    "\n",
    "**1- Load data and features are numerical ( discrete, continuous, or timeseries based ). (data Path =`WA_Fn-UseC_-Telco-Customer-Churn_2.csv`)**\n",
    "\n",
    "**2-  Use visualization to drive that churned clients have lower range in TotalCharges**\n",
    "\n",
    "**3- Based on your observations from First requirement :**\n",
    "\n",
    "   - Check outlier in continuous Features \n",
    "   - Check Missing values and Handle it\n",
    "\n",
    "**4- Extract The Most important feature based on Mutual information**\n",
    "\n",
    "**5- Use DecisionTreeClassifier to predict customer churned and show why your model can decide customer churn**\n",
    "\n",
    "#### Hint: \n",
    "- you can consider any empty string as missing values \n",
    "- you are free to apply any method to address any necessary data transformations and cleaning procedures"
   ]
  },
  {
   "cell_type": "code",
   "execution_count": null,
   "id": "fdb14271",
   "metadata": {},
   "outputs": [],
   "source": [
    "### imports ####\n",
    "import pandas as pd\n",
    "import seaborn as sns\n",
    "import matplotlib.pyplot as plt\n",
    "import numpy as np\n",
    "from sklearn.feature_selection import mutual_info_classif,f_classif,SelectKBest \n",
    "from sklearn.impute import SimpleImputer\n",
    "from sklearn.preprocessing import LabelEncoder, OneHotEncoder\n",
    "from sklearn.model_selection import train_test_split\n",
    "from sklearn import tree"
   ]
  }
 ],
 "metadata": {
  "kernelspec": {
   "display_name": "Python 3 (ipykernel)",
   "language": "python",
   "name": "python3"
  },
  "language_info": {
   "codemirror_mode": {
    "name": "ipython",
    "version": 3
   },
   "file_extension": ".py",
   "mimetype": "text/x-python",
   "name": "python",
   "nbconvert_exporter": "python",
   "pygments_lexer": "ipython3",
   "version": "3.11.4"
  }
 },
 "nbformat": 4,
 "nbformat_minor": 5
}
